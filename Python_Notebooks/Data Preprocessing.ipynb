{
 "cells": [
  {
   "cell_type": "markdown",
   "id": "c29ae889",
   "metadata": {},
   "source": [
    "# Data Preprocessing"
   ]
  },
  {
   "cell_type": "markdown",
   "id": "8952aa45",
   "metadata": {},
   "source": [
    "This notebook contains code to preprocess GDP and Stock Market data for CSE 512 Model vs Modalities project."
   ]
  },
  {
   "cell_type": "markdown",
   "id": "cc7535d7",
   "metadata": {},
   "source": [
    "## Part I (Data Aggregation)"
   ]
  },
  {
   "cell_type": "markdown",
   "id": "f23c5c0d",
   "metadata": {},
   "source": [
    "In this section, we will aggregate data from multiple files and different file types, into a single CSV with required variables and timestamps."
   ]
  },
  {
   "cell_type": "code",
   "execution_count": null,
   "id": "f42f3278",
   "metadata": {},
   "outputs": [],
   "source": []
  }
 ],
 "metadata": {
  "kernelspec": {
   "display_name": "Python 3 (ipykernel)",
   "language": "python",
   "name": "python3"
  },
  "language_info": {
   "codemirror_mode": {
    "name": "ipython",
    "version": 3
   },
   "file_extension": ".py",
   "mimetype": "text/x-python",
   "name": "python",
   "nbconvert_exporter": "python",
   "pygments_lexer": "ipython3",
   "version": "3.9.7"
  }
 },
 "nbformat": 4,
 "nbformat_minor": 5
}
